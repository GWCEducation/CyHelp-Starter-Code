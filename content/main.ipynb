{
 "cells": [
  {
   "cell_type": "code",
   "execution_count": null,
   "id": "bfd1077f",
   "metadata": {},
   "outputs": [],
   "source": [
    "#CyHelp Starter Code\n",
    "\n",
    "\n",
    "#Greets user\n",
    "print(\"Hello! I'm CyHelp.\")\n",
    "\n",
    "\n",
    "#Recounts start of Cybersecurity\n",
    "\n",
    "\n",
    "\n",
    "print(\"The field of Cybersecurity started in the 1970s when more and more information started being stored on computer systems and networks!\")\n",
    "\n",
    "\n",
    "#Describes Cybersecurity\n",
    "\n",
    "\n",
    "\n",
    "#Introduces CIA Triad\n",
    "print(\"The CIA Triad is the model used to discuss cybersecurity. CIA stands for (add text here)\")\n",
    "\n",
    "\n",
    "#Explains pillars of CIA Triad\n",
    "print(\"What would you like to learn more about? Enter the lowercase letter of the following options: (add text here)\")\n",
    "\n",
    "\n",
    "#Chatbot ends conversation\n",
    "print(\"Thanks for chatting with me, and I hope you learned something new!\")"
   ]
  }
 ],
 "metadata": {},
 "nbformat": 4,
 "nbformat_minor": 5
}
